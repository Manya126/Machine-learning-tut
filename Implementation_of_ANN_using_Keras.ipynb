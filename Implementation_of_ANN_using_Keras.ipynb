{
  "nbformat": 4,
  "nbformat_minor": 0,
  "metadata": {
    "colab": {
      "provenance": [],
      "include_colab_link": true
    },
    "kernelspec": {
      "name": "python3",
      "display_name": "Python 3"
    },
    "language_info": {
      "name": "python"
    },
    "accelerator": "GPU"
  },
  "cells": [
    {
      "cell_type": "markdown",
      "metadata": {
        "id": "view-in-github",
        "colab_type": "text"
      },
      "source": [
        "<a href=\"https://colab.research.google.com/github/Manya126/Machine-learning-tut/blob/main/Implementation_of_ANN_using_Keras.ipynb\" target=\"_parent\"><img src=\"https://colab.research.google.com/assets/colab-badge.svg\" alt=\"Open In Colab\"/></a>"
      ]
    },
    {
      "cell_type": "markdown",
      "metadata": {
        "id": "wfixJb2wCVFC"
      },
      "source": [
        "#Deep Learning With Computer Vision And Advanced NLP (DL_CV_NLP)\n",
        "\n",
        "$$ Revision Notes $$\n"
      ]
    },
    {
      "cell_type": "markdown",
      "metadata": {
        "id": "UKxjhMqYCYmY"
      },
      "source": [
        "# Implementation of ANN using Keras:"
      ]
    },
    {
      "cell_type": "code",
      "metadata": {
        "id": "8cyFiytTqQ9y"
      },
      "source": [
        "# Importing Libraries\n",
        "import tensorflow as tf\n",
        "import matplotlib.pyplot as plt\n",
        "import numpy as np\n",
        "import pandas as pd\n",
        "import seaborn as sns\n",
        "import os"
      ],
      "execution_count": 4,
      "outputs": []
    },
    {
      "cell_type": "code",
      "metadata": {
        "colab": {
          "base_uri": "https://localhost:8080/"
        },
        "id": "zRzBH6nAzVe4",
        "outputId": "38fcb623-86c6-4cdb-cd89-bd10f7a66b4c"
      },
      "source": [
        "# Checking version of Tensorflow ans Keras\n",
        "print(f\"Tensorflow Version {tf.__version__}\")\n",
        "print(f\"Keras Version {tf.keras.__version__}\")"
      ],
      "execution_count": 5,
      "outputs": [
        {
          "output_type": "stream",
          "name": "stdout",
          "text": [
            "Tensorflow Version 2.18.0\n",
            "Keras Version 3.8.0\n"
          ]
        }
      ]
    },
    {
      "cell_type": "code",
      "metadata": {
        "id": "DwGYykBzzb8e",
        "colab": {
          "base_uri": "https://localhost:8080/",
          "height": 193
        },
        "outputId": "95622cbc-cd27-42a9-8cba-80cea8110e27"
      },
      "source": [
        "# Changing directory to my drive\n",
        "ROOT = \"/content/drive/MyDrive/DL-CV-NLP/Revision \"\n",
        "os.chdir(ROOT)"
      ],
      "execution_count": 3,
      "outputs": [
        {
          "output_type": "error",
          "ename": "FileNotFoundError",
          "evalue": "[Errno 2] No such file or directory: '/content/drive/MyDrive/DL-CV-NLP/Revision '",
          "traceback": [
            "\u001b[0;31m---------------------------------------------------------------------------\u001b[0m",
            "\u001b[0;31mFileNotFoundError\u001b[0m                         Traceback (most recent call last)",
            "\u001b[0;32m<ipython-input-3-79a36b5d6c60>\u001b[0m in \u001b[0;36m<cell line: 0>\u001b[0;34m()\u001b[0m\n\u001b[1;32m      1\u001b[0m \u001b[0;31m# Changing directory to my drive\u001b[0m\u001b[0;34m\u001b[0m\u001b[0;34m\u001b[0m\u001b[0m\n\u001b[1;32m      2\u001b[0m \u001b[0mROOT\u001b[0m \u001b[0;34m=\u001b[0m \u001b[0;34m\"/content/drive/MyDrive/DL-CV-NLP/Revision \"\u001b[0m\u001b[0;34m\u001b[0m\u001b[0;34m\u001b[0m\u001b[0m\n\u001b[0;32m----> 3\u001b[0;31m \u001b[0mos\u001b[0m\u001b[0;34m.\u001b[0m\u001b[0mchdir\u001b[0m\u001b[0;34m(\u001b[0m\u001b[0mROOT\u001b[0m\u001b[0;34m)\u001b[0m\u001b[0;34m\u001b[0m\u001b[0;34m\u001b[0m\u001b[0m\n\u001b[0m",
            "\u001b[0;31mFileNotFoundError\u001b[0m: [Errno 2] No such file or directory: '/content/drive/MyDrive/DL-CV-NLP/Revision '"
          ]
        }
      ]
    },
    {
      "cell_type": "code",
      "metadata": {
        "colab": {
          "base_uri": "https://localhost:8080/",
          "height": 36
        },
        "id": "Yu38h-wxzrE-",
        "outputId": "aefb819b-073f-4a4c-f18e-d9d7a76c6af0"
      },
      "source": [
        "os.getcwd()"
      ],
      "execution_count": 6,
      "outputs": [
        {
          "output_type": "execute_result",
          "data": {
            "text/plain": [
              "'/content'"
            ],
            "application/vnd.google.colaboratory.intrinsic+json": {
              "type": "string"
            }
          },
          "metadata": {},
          "execution_count": 6
        }
      ]
    },
    {
      "cell_type": "markdown",
      "metadata": {
        "id": "U-KWX4byz2uJ"
      },
      "source": [
        "# GPU / CPU Check"
      ]
    },
    {
      "cell_type": "code",
      "metadata": {
        "colab": {
          "base_uri": "https://localhost:8080/"
        },
        "id": "toOEyljOzzju",
        "outputId": "2c5633dd-1a4c-4cc8-e01f-2c0ea3c8e78a"
      },
      "source": [
        "tf.config.list_physical_devices(\"GPU\")"
      ],
      "execution_count": 7,
      "outputs": [
        {
          "output_type": "execute_result",
          "data": {
            "text/plain": [
              "[PhysicalDevice(name='/physical_device:GPU:0', device_type='GPU')]"
            ]
          },
          "metadata": {},
          "execution_count": 7
        }
      ]
    },
    {
      "cell_type": "code",
      "metadata": {
        "colab": {
          "base_uri": "https://localhost:8080/"
        },
        "id": "fQ7_Dy77z9ad",
        "outputId": "15af5ad2-1d40-45af-fc44-bb998c263732"
      },
      "source": [
        "tf.config.list_physical_devices(\"CPU\")"
      ],
      "execution_count": 8,
      "outputs": [
        {
          "output_type": "execute_result",
          "data": {
            "text/plain": [
              "[PhysicalDevice(name='/physical_device:CPU:0', device_type='CPU')]"
            ]
          },
          "metadata": {},
          "execution_count": 8
        }
      ]
    },
    {
      "cell_type": "code",
      "metadata": {
        "colab": {
          "base_uri": "https://localhost:8080/"
        },
        "id": "BzQV7xH70AE-",
        "outputId": "afc20666-f504-4c47-f8a4-bbbc602a601e"
      },
      "source": [
        "check_list = ['GPU','CPU']\n",
        "\n",
        "for device in check_list:\n",
        "  out = tf.config.list_physical_devices(device)\n",
        "  if len(out) > 0:\n",
        "    print(f\"{device} is available!\")\n",
        "    print(f\"Details >> {out}\")\n",
        "  else:\n",
        "    print(f\"{device} isn't available!\")"
      ],
      "execution_count": 9,
      "outputs": [
        {
          "output_type": "stream",
          "name": "stdout",
          "text": [
            "GPU is available!\n",
            "Details >> [PhysicalDevice(name='/physical_device:GPU:0', device_type='GPU')]\n",
            "CPU is available!\n",
            "Details >> [PhysicalDevice(name='/physical_device:CPU:0', device_type='CPU')]\n"
          ]
        }
      ]
    },
    {
      "cell_type": "markdown",
      "metadata": {
        "id": "gYt1wtqx0H0g"
      },
      "source": [
        "#Creating a simple classifier using keras on MNIST data"
      ]
    },
    {
      "cell_type": "code",
      "metadata": {
        "colab": {
          "base_uri": "https://localhost:8080/"
        },
        "id": "lA3Jiupu0Ck1",
        "outputId": "270ae14b-92bd-4988-beab-1a0ed09aac88"
      },
      "source": [
        "mnist = tf.keras.datasets.mnist\n",
        "(X_train_full, y_train_full), (X_test, y_test) = mnist.load_data()"
      ],
      "execution_count": 10,
      "outputs": [
        {
          "output_type": "stream",
          "name": "stdout",
          "text": [
            "Downloading data from https://storage.googleapis.com/tensorflow/tf-keras-datasets/mnist.npz\n",
            "\u001b[1m11490434/11490434\u001b[0m \u001b[32m━━━━━━━━━━━━━━━━━━━━\u001b[0m\u001b[37m\u001b[0m \u001b[1m0s\u001b[0m 0us/step\n"
          ]
        }
      ]
    },
    {
      "cell_type": "code",
      "metadata": {
        "colab": {
          "base_uri": "https://localhost:8080/"
        },
        "id": "Ij9IgzYL0Nl1",
        "outputId": "cded8c7d-90e8-4489-fb68-c533f3b89171"
      },
      "source": [
        "print(f\"data type of X_train_full: {X_train_full.dtype},\\n shape of X_train_full: {X_train_full.shape}\")"
      ],
      "execution_count": 11,
      "outputs": [
        {
          "output_type": "stream",
          "name": "stdout",
          "text": [
            "data type of X_train_full: uint8,\n",
            " shape of X_train_full: (60000, 28, 28)\n"
          ]
        }
      ]
    },
    {
      "cell_type": "code",
      "metadata": {
        "colab": {
          "base_uri": "https://localhost:8080/"
        },
        "id": "sTmnrnXX0Rv4",
        "outputId": "e5d74194-5b32-4ff1-f228-c46c99837a2f"
      },
      "source": [
        "X_test.shape"
      ],
      "execution_count": 12,
      "outputs": [
        {
          "output_type": "execute_result",
          "data": {
            "text/plain": [
              "(10000, 28, 28)"
            ]
          },
          "metadata": {},
          "execution_count": 12
        }
      ]
    },
    {
      "cell_type": "code",
      "metadata": {
        "colab": {
          "base_uri": "https://localhost:8080/"
        },
        "id": "HVFEv8wJ0Txm",
        "outputId": "bd7de7e9-927d-440a-b9b0-d117703ce0e5"
      },
      "source": [
        "len(X_test[1][0])"
      ],
      "execution_count": 13,
      "outputs": [
        {
          "output_type": "execute_result",
          "data": {
            "text/plain": [
              "28"
            ]
          },
          "metadata": {},
          "execution_count": 13
        }
      ]
    },
    {
      "cell_type": "code",
      "metadata": {
        "id": "enACwUkT0aIA"
      },
      "source": [
        "# create a validation data set from the full training data\n",
        "# Scale the data between 0 to 1 by dividing it by 255. as its an unsigned data between 0-255 range\n",
        "X_valid, X_train = X_train_full[:5000] / 255., X_train_full[5000:] / 255.\n",
        "y_valid, y_train = y_train_full[:5000], y_train_full[5000:]\n",
        "\n",
        "# scale the test set as well\n",
        "X_test = X_test / 255.\n"
      ],
      "execution_count": 14,
      "outputs": []
    },
    {
      "cell_type": "code",
      "metadata": {
        "colab": {
          "base_uri": "https://localhost:8080/"
        },
        "id": "kry0b-Gr0d5P",
        "outputId": "5b72839c-f762-473c-f1a9-f274d81700a5"
      },
      "source": [
        "len(X_train_full[5000:] )"
      ],
      "execution_count": 15,
      "outputs": [
        {
          "output_type": "execute_result",
          "data": {
            "text/plain": [
              "55000"
            ]
          },
          "metadata": {},
          "execution_count": 15
        }
      ]
    },
    {
      "cell_type": "code",
      "metadata": {
        "colab": {
          "base_uri": "https://localhost:8080/",
          "height": 430
        },
        "id": "7ndtCwll0f-X",
        "outputId": "b405c559-2c6d-4cb7-8d76-34c5ef02b4f6"
      },
      "source": [
        "# Lets view some data\n",
        "plt.imshow(X_train[0], cmap=\"binary\")\n",
        "plt.show()"
      ],
      "execution_count": 16,
      "outputs": [
        {
          "output_type": "display_data",
          "data": {
            "text/plain": [
              "<Figure size 640x480 with 1 Axes>"
            ],
            "image/png": "[encoded data removed]"
          },
          "metadata": {}
        }
      ]
    },
    {
      "cell_type": "code",
      "metadata": {
        "colab": {
          "base_uri": "https://localhost:8080/",
          "height": 723
        },
        "id": "bIX_tQ3T0iRD",
        "outputId": "14e3e8e9-f11d-4a9b-9e80-72f3a3310379"
      },
      "source": [
        "plt.figure(figsize=(15,15))\n",
        "sns.heatmap(X_train[0], annot=True, cmap=\"binary\")"
      ],
      "execution_count": 17,
      "outputs": [
        {
          "output_type": "execute_result",
          "data": {
            "text/plain": [
              "<Axes: >"
            ]
          },
          "metadata": {},
          "execution_count": 17
        },
        {
          "output_type": "display_data",
          "data": {
            "text/plain": [
              "<Figure size 1500x1500 with 2 Axes>"
            ],
            "image/png": "[encoded data removed]"
          },
          "metadata": {}
        }
      ]
    },
    {
      "cell_type": "markdown",
      "metadata": {
        "id": "gWaRi78i-Wvb"
      },
      "source": [
        "# Architechture Used:\n",
        "<img src=\"https://github.com/entbappy/Branching-tutorial/blob/master/9.png?raw=true\"\n",
        "width=\"500\"\n",
        "height=\"300\">"
      ]
    },
    {
      "cell_type": "code",
      "metadata": {
        "id": "sGvWSfqY0keJ",
        "colab": {
          "base_uri": "https://localhost:8080/"
        },
        "outputId": "7d5be216-dd58-4823-b658-5818bc505b2a"
      },
      "source": [
        "# Creating layers of ANN\n",
        "LAYERS = [tf.keras.layers.Flatten(input_shape=[28, 28], name=\"inputLayer\"),\n",
        "          tf.keras.layers.Dense(300, activation=\"relu\", name=\"hiddenLayer1\"),\n",
        "          tf.keras.layers.Dense(100, activation=\"relu\", name=\"hiddenLayer2\"),\n",
        "          tf.keras.layers.Dense(10, activation=\"softmax\", name=\"outputLayer\")]\n",
        "\n",
        "model_clf = tf.keras.models.Sequential(LAYERS)"
      ],
      "execution_count": 18,
      "outputs": [
        {
          "output_type": "stream",
          "name": "stderr",
          "text": [
            "/usr/local/lib/python3.11/dist-packages/keras/src/layers/reshaping/flatten.py:37: UserWarning: Do not pass an `input_shape`/`input_dim` argument to a layer. When using Sequential models, prefer using an `Input(shape)` object as the first layer in the model instead.\n",
            "  super().__init__(**kwargs)\n"
          ]
        }
      ]
    },
    {
      "cell_type": "code",
      "metadata": {
        "colab": {
          "base_uri": "https://localhost:8080/"
        },
        "id": "IkSRjh7m0vmm",
        "outputId": "7643b9c6-a9d7-439a-ac04-ee9824fad6de"
      },
      "source": [
        "model_clf.layers"
      ],
      "execution_count": null,
      "outputs": [
        {
          "output_type": "execute_result",
          "data": {
            "text/plain": [
              "[<tensorflow.python.keras.layers.core.Flatten at 0x7fb3140a3910>,\n",
              " <tensorflow.python.keras.layers.core.Dense at 0x7fb3140a3810>,\n",
              " <tensorflow.python.keras.layers.core.Dense at 0x7fb313a90450>,\n",
              " <tensorflow.python.keras.layers.core.Dense at 0x7fb313a90850>]"
            ]
          },
          "metadata": {
            "tags": []
          },
          "execution_count": 18
        }
      ]
    },
    {
      "cell_type": "code",
      "metadata": {
        "colab": {
          "base_uri": "https://localhost:8080/"
        },
        "id": "tsRtHRha0z-X",
        "outputId": "c455fa61-9d06-426e-8f21-8dd11bbb0f8c"
      },
      "source": [
        "model_clf.summary()"
      ],
      "execution_count": null,
      "outputs": [
        {
          "output_type": "stream",
          "text": [
            "Model: \"sequential\"\n",
            "_________________________________________________________________\n",
            "Layer (type)                 Output Shape              Param #   \n",
            "=================================================================\n",
            "inputLayer (Flatten)         (None, 784)               0         \n",
            "_________________________________________________________________\n",
            "hiddenLayer1 (Dense)         (None, 300)               235500    \n",
            "_________________________________________________________________\n",
            "hiddenLayer2 (Dense)         (None, 100)               30100     \n",
            "_________________________________________________________________\n",
            "outputLayer (Dense)          (None, 10)                1010      \n",
            "=================================================================\n",
            "Total params: 266,610\n",
            "Trainable params: 266,610\n",
            "Non-trainable params: 0\n",
            "_________________________________________________________________\n"
          ],
          "name": "stdout"
        }
      ]
    },
    {
      "cell_type": "code",
      "metadata": {
        "colab": {
          "base_uri": "https://localhost:8080/"
        },
        "id": "kEB0echJ02F1",
        "outputId": "177a075b-151a-4741-cc52-b2f15d45c38b"
      },
      "source": [
        "# firsLayer * secondLayer + bias\n",
        "784*300 + 300, 300*100+100, 100*10+10"
      ],
      "execution_count": null,
      "outputs": [
        {
          "output_type": "execute_result",
          "data": {
            "text/plain": [
              "(235500, 30100, 1010)"
            ]
          },
          "metadata": {
            "tags": []
          },
          "execution_count": 20
        }
      ]
    },
    {
      "cell_type": "code",
      "metadata": {
        "colab": {
          "base_uri": "https://localhost:8080/"
        },
        "id": "wnYO-DOB05gq",
        "outputId": "681e6e67-c508-46ff-d086-1257f62306e4"
      },
      "source": [
        "# Total parameters to be trained\n",
        "sum((235500, 30100, 1010))"
      ],
      "execution_count": null,
      "outputs": [
        {
          "output_type": "execute_result",
          "data": {
            "text/plain": [
              "266610"
            ]
          },
          "metadata": {
            "tags": []
          },
          "execution_count": 21
        }
      ]
    },
    {
      "cell_type": "code",
      "metadata": {
        "colab": {
          "base_uri": "https://localhost:8080/",
          "height": 35
        },
        "id": "1GIEme5n08wL",
        "outputId": "50de5f52-3efc-41db-b562-d412a0a1e97a"
      },
      "source": [
        "hidden1 = model_clf.layers[1]\n",
        "hidden1.name"
      ],
      "execution_count": null,
      "outputs": [
        {
          "output_type": "execute_result",
          "data": {
            "application/vnd.google.colaboratory.intrinsic+json": {
              "type": "string"
            },
            "text/plain": [
              "'hiddenLayer1'"
            ]
          },
          "metadata": {
            "tags": []
          },
          "execution_count": 22
        }
      ]
    },
    {
      "cell_type": "code",
      "metadata": {
        "colab": {
          "base_uri": "https://localhost:8080/"
        },
        "id": "RWNnIcjd0_jj",
        "outputId": "6365beb5-eacd-4b0d-c083-37191e900696"
      },
      "source": [
        "len(hidden1.get_weights()[1])"
      ],
      "execution_count": null,
      "outputs": [
        {
          "output_type": "execute_result",
          "data": {
            "text/plain": [
              "300"
            ]
          },
          "metadata": {
            "tags": []
          },
          "execution_count": 23
        }
      ]
    },
    {
      "cell_type": "code",
      "metadata": {
        "colab": {
          "base_uri": "https://localhost:8080/"
        },
        "id": "U15nIfVC1DQh",
        "outputId": "59205201-cd3c-4a55-a990-34799eb5d147"
      },
      "source": [
        "hidden1.get_weights()"
      ],
      "execution_count": null,
      "outputs": [
        {
          "output_type": "execute_result",
          "data": {
            "text/plain": [
              "[array([[-0.04071231,  0.02368394, -0.04371588, ...,  0.03490927,\n",
              "          0.04804594, -0.04025941],\n",
              "        [ 0.07241748,  0.04408754,  0.04216108, ...,  0.03603031,\n",
              "          0.03906497, -0.07369931],\n",
              "        [-0.05971236,  0.06530608, -0.03200042, ..., -0.00993332,\n",
              "          0.06796919, -0.05723395],\n",
              "        ...,\n",
              "        [ 0.05587782,  0.03816801, -0.04787287, ...,  0.01242442,\n",
              "          0.02829525, -0.04116471],\n",
              "        [-0.03556294,  0.06861447,  0.0311735 , ...,  0.05164792,\n",
              "         -0.00438299, -0.0568511 ],\n",
              "        [-0.00249385, -0.05429724, -0.03027862, ...,  0.05772662,\n",
              "          0.03096132, -0.02140954]], dtype=float32),\n",
              " array([0., 0., 0., 0., 0., 0., 0., 0., 0., 0., 0., 0., 0., 0., 0., 0., 0.,\n",
              "        0., 0., 0., 0., 0., 0., 0., 0., 0., 0., 0., 0., 0., 0., 0., 0., 0.,\n",
              "        0., 0., 0., 0., 0., 0., 0., 0., 0., 0., 0., 0., 0., 0., 0., 0., 0.,\n",
              "        0., 0., 0., 0., 0., 0., 0., 0., 0., 0., 0., 0., 0., 0., 0., 0., 0.,\n",
              "        0., 0., 0., 0., 0., 0., 0., 0., 0., 0., 0., 0., 0., 0., 0., 0., 0.,\n",
              "        0., 0., 0., 0., 0., 0., 0., 0., 0., 0., 0., 0., 0., 0., 0., 0., 0.,\n",
              "        0., 0., 0., 0., 0., 0., 0., 0., 0., 0., 0., 0., 0., 0., 0., 0., 0.,\n",
              "        0., 0., 0., 0., 0., 0., 0., 0., 0., 0., 0., 0., 0., 0., 0., 0., 0.,\n",
              "        0., 0., 0., 0., 0., 0., 0., 0., 0., 0., 0., 0., 0., 0., 0., 0., 0.,\n",
              "        0., 0., 0., 0., 0., 0., 0., 0., 0., 0., 0., 0., 0., 0., 0., 0., 0.,\n",
              "        0., 0., 0., 0., 0., 0., 0., 0., 0., 0., 0., 0., 0., 0., 0., 0., 0.,\n",
              "        0., 0., 0., 0., 0., 0., 0., 0., 0., 0., 0., 0., 0., 0., 0., 0., 0.,\n",
              "        0., 0., 0., 0., 0., 0., 0., 0., 0., 0., 0., 0., 0., 0., 0., 0., 0.,\n",
              "        0., 0., 0., 0., 0., 0., 0., 0., 0., 0., 0., 0., 0., 0., 0., 0., 0.,\n",
              "        0., 0., 0., 0., 0., 0., 0., 0., 0., 0., 0., 0., 0., 0., 0., 0., 0.,\n",
              "        0., 0., 0., 0., 0., 0., 0., 0., 0., 0., 0., 0., 0., 0., 0., 0., 0.,\n",
              "        0., 0., 0., 0., 0., 0., 0., 0., 0., 0., 0., 0., 0., 0., 0., 0., 0.,\n",
              "        0., 0., 0., 0., 0., 0., 0., 0., 0., 0., 0.], dtype=float32)]"
            ]
          },
          "metadata": {
            "tags": []
          },
          "execution_count": 24
        }
      ]
    },
    {
      "cell_type": "code",
      "metadata": {
        "id": "EiK1lO1D1hMt"
      },
      "source": [
        "weights, biases = hidden1.get_weights()"
      ],
      "execution_count": null,
      "outputs": []
    },
    {
      "cell_type": "code",
      "metadata": {
        "colab": {
          "base_uri": "https://localhost:8080/"
        },
        "id": "uwaadY4M1j9-",
        "outputId": "34ac60d1-ba8f-4644-ac51-7de2771c63aa"
      },
      "source": [
        "print(\"shape\\n\",weights.shape, \"\\n\")\n",
        "weights"
      ],
      "execution_count": null,
      "outputs": [
        {
          "output_type": "stream",
          "text": [
            "shape\n",
            " (784, 300) \n",
            "\n"
          ],
          "name": "stdout"
        },
        {
          "output_type": "execute_result",
          "data": {
            "text/plain": [
              "array([[-0.04071231,  0.02368394, -0.04371588, ...,  0.03490927,\n",
              "         0.04804594, -0.04025941],\n",
              "       [ 0.07241748,  0.04408754,  0.04216108, ...,  0.03603031,\n",
              "         0.03906497, -0.07369931],\n",
              "       [-0.05971236,  0.06530608, -0.03200042, ..., -0.00993332,\n",
              "         0.06796919, -0.05723395],\n",
              "       ...,\n",
              "       [ 0.05587782,  0.03816801, -0.04787287, ...,  0.01242442,\n",
              "         0.02829525, -0.04116471],\n",
              "       [-0.03556294,  0.06861447,  0.0311735 , ...,  0.05164792,\n",
              "        -0.00438299, -0.0568511 ],\n",
              "       [-0.00249385, -0.05429724, -0.03027862, ...,  0.05772662,\n",
              "         0.03096132, -0.02140954]], dtype=float32)"
            ]
          },
          "metadata": {
            "tags": []
          },
          "execution_count": 26
        }
      ]
    },
    {
      "cell_type": "code",
      "metadata": {
        "colab": {
          "base_uri": "https://localhost:8080/"
        },
        "id": "ExppLUqR1mFG",
        "outputId": "89884a0e-34dd-42dc-ca4c-f5a894607266"
      },
      "source": [
        "print(\"shape\\n\", biases.shape)"
      ],
      "execution_count": null,
      "outputs": [
        {
          "output_type": "stream",
          "text": [
            "shape\n",
            " (300,)\n"
          ],
          "name": "stdout"
        }
      ]
    },
    {
      "cell_type": "code",
      "metadata": {
        "id": "MRj-5WMP1poj"
      },
      "source": [
        "LOSS_FUNCTION = \"sparse_categorical_crossentropy\" # use => tf.losses.sparse_categorical_crossentropy\n",
        "OPTIMIZER = \"SGD\" # or use with custom learning rate=> tf.keras.optimizers.SGD(0.02)\n",
        "METRICS = [\"accuracy\"]\n",
        "\n",
        "model_clf.compile(loss=LOSS_FUNCTION,\n",
        "              optimizer=OPTIMIZER,\n",
        "              metrics=METRICS)\n"
      ],
      "execution_count": null,
      "outputs": []
    },
    {
      "cell_type": "code",
      "metadata": {
        "colab": {
          "base_uri": "https://localhost:8080/"
        },
        "id": "kXY9Zk511xVX",
        "outputId": "424df7e3-6c54-4935-cc66-9d24d7b652fc"
      },
      "source": [
        "# training\n",
        "\n",
        "EPOCHS = 30\n",
        "VALIDATION_SET = (X_valid, y_valid)\n",
        "\n",
        "history = model_clf.fit(X_train, y_train, epochs=EPOCHS,\n",
        "                    validation_data=VALIDATION_SET, batch_size=32)\n"
      ],
      "execution_count": null,
      "outputs": [
        {
          "output_type": "stream",
          "text": [
            "Epoch 1/30\n",
            "1719/1719 [==============================] - 6s 2ms/step - loss: 0.6108 - accuracy: 0.8404 - val_loss: 0.3050 - val_accuracy: 0.9118\n",
            "Epoch 2/30\n",
            "1719/1719 [==============================] - 3s 2ms/step - loss: 0.2860 - accuracy: 0.9187 - val_loss: 0.2445 - val_accuracy: 0.9314\n",
            "Epoch 3/30\n",
            "1719/1719 [==============================] - 3s 2ms/step - loss: 0.2347 - accuracy: 0.9329 - val_loss: 0.2028 - val_accuracy: 0.9444\n",
            "Epoch 4/30\n",
            "1719/1719 [==============================] - 3s 2ms/step - loss: 0.2007 - accuracy: 0.9434 - val_loss: 0.1808 - val_accuracy: 0.9494\n",
            "Epoch 5/30\n",
            "1719/1719 [==============================] - 3s 2ms/step - loss: 0.1753 - accuracy: 0.9501 - val_loss: 0.1614 - val_accuracy: 0.9562\n",
            "Epoch 6/30\n",
            "1719/1719 [==============================] - 3s 2ms/step - loss: 0.1554 - accuracy: 0.9560 - val_loss: 0.1473 - val_accuracy: 0.9606\n",
            "Epoch 7/30\n",
            "1719/1719 [==============================] - 3s 2ms/step - loss: 0.1391 - accuracy: 0.9606 - val_loss: 0.1357 - val_accuracy: 0.9632\n",
            "Epoch 8/30\n",
            "1719/1719 [==============================] - 3s 2ms/step - loss: 0.1257 - accuracy: 0.9645 - val_loss: 0.1261 - val_accuracy: 0.9656\n",
            "Epoch 9/30\n",
            "1719/1719 [==============================] - 3s 2ms/step - loss: 0.1146 - accuracy: 0.9678 - val_loss: 0.1165 - val_accuracy: 0.9680\n",
            "Epoch 10/30\n",
            "1719/1719 [==============================] - 3s 2ms/step - loss: 0.1053 - accuracy: 0.9704 - val_loss: 0.1101 - val_accuracy: 0.9688\n",
            "Epoch 11/30\n",
            "1719/1719 [==============================] - 3s 2ms/step - loss: 0.0968 - accuracy: 0.9729 - val_loss: 0.1042 - val_accuracy: 0.9708\n",
            "Epoch 12/30\n",
            "1719/1719 [==============================] - 3s 2ms/step - loss: 0.0892 - accuracy: 0.9751 - val_loss: 0.0988 - val_accuracy: 0.9724\n",
            "Epoch 13/30\n",
            "1719/1719 [==============================] - 3s 2ms/step - loss: 0.0827 - accuracy: 0.9769 - val_loss: 0.0967 - val_accuracy: 0.9722\n",
            "Epoch 14/30\n",
            "1719/1719 [==============================] - 3s 2ms/step - loss: 0.0767 - accuracy: 0.9788 - val_loss: 0.0947 - val_accuracy: 0.9724\n",
            "Epoch 15/30\n",
            "1719/1719 [==============================] - 3s 2ms/step - loss: 0.0717 - accuracy: 0.9800 - val_loss: 0.0878 - val_accuracy: 0.9750\n",
            "Epoch 16/30\n",
            "1719/1719 [==============================] - 3s 2ms/step - loss: 0.0668 - accuracy: 0.9816 - val_loss: 0.0854 - val_accuracy: 0.9750\n",
            "Epoch 17/30\n",
            "1719/1719 [==============================] - 3s 2ms/step - loss: 0.0623 - accuracy: 0.9832 - val_loss: 0.0854 - val_accuracy: 0.9762\n",
            "Epoch 18/30\n",
            "1719/1719 [==============================] - 3s 2ms/step - loss: 0.0587 - accuracy: 0.9838 - val_loss: 0.0834 - val_accuracy: 0.9754\n",
            "Epoch 19/30\n",
            "1719/1719 [==============================] - 3s 2ms/step - loss: 0.0547 - accuracy: 0.9853 - val_loss: 0.0790 - val_accuracy: 0.9764\n",
            "Epoch 20/30\n",
            "1719/1719 [==============================] - 3s 2ms/step - loss: 0.0513 - accuracy: 0.9862 - val_loss: 0.0782 - val_accuracy: 0.9760\n",
            "Epoch 21/30\n",
            "1719/1719 [==============================] - 3s 2ms/step - loss: 0.0484 - accuracy: 0.9872 - val_loss: 0.0764 - val_accuracy: 0.9776\n",
            "Epoch 22/30\n",
            "1719/1719 [==============================] - 3s 2ms/step - loss: 0.0456 - accuracy: 0.9879 - val_loss: 0.0755 - val_accuracy: 0.9760\n",
            "Epoch 23/30\n",
            "1719/1719 [==============================] - 3s 2ms/step - loss: 0.0427 - accuracy: 0.9889 - val_loss: 0.0738 - val_accuracy: 0.9766\n",
            "Epoch 24/30\n",
            "1719/1719 [==============================] - 3s 2ms/step - loss: 0.0404 - accuracy: 0.9897 - val_loss: 0.0720 - val_accuracy: 0.9778\n",
            "Epoch 25/30\n",
            "1719/1719 [==============================] - 3s 2ms/step - loss: 0.0382 - accuracy: 0.9907 - val_loss: 0.0717 - val_accuracy: 0.9768\n",
            "Epoch 26/30\n",
            "1719/1719 [==============================] - 3s 2ms/step - loss: 0.0357 - accuracy: 0.9909 - val_loss: 0.0704 - val_accuracy: 0.9776\n",
            "Epoch 27/30\n",
            "1719/1719 [==============================] - 3s 2ms/step - loss: 0.0341 - accuracy: 0.9918 - val_loss: 0.0731 - val_accuracy: 0.9774\n",
            "Epoch 28/30\n",
            "1719/1719 [==============================] - 3s 2ms/step - loss: 0.0320 - accuracy: 0.9921 - val_loss: 0.0715 - val_accuracy: 0.9782\n",
            "Epoch 29/30\n",
            "1719/1719 [==============================] - 3s 2ms/step - loss: 0.0303 - accuracy: 0.9927 - val_loss: 0.0700 - val_accuracy: 0.9790\n",
            "Epoch 30/30\n",
            "1719/1719 [==============================] - 3s 2ms/step - loss: 0.0288 - accuracy: 0.9931 - val_loss: 0.0667 - val_accuracy: 0.9784\n"
          ],
          "name": "stdout"
        }
      ]
    },
    {
      "cell_type": "code",
      "metadata": {
        "colab": {
          "base_uri": "https://localhost:8080/"
        },
        "id": "EKq756Wr2Nhq",
        "outputId": "9bcaa1cc-142e-4409-956c-46ab7f6525c7"
      },
      "source": [
        "history.params"
      ],
      "execution_count": null,
      "outputs": [
        {
          "output_type": "execute_result",
          "data": {
            "text/plain": [
              "{'epochs': 30, 'steps': 1719, 'verbose': 1}"
            ]
          },
          "metadata": {
            "tags": []
          },
          "execution_count": 30
        }
      ]
    },
    {
      "cell_type": "code",
      "metadata": {
        "colab": {
          "base_uri": "https://localhost:8080/",
          "height": 986
        },
        "id": "le6Tw9LR20IP",
        "outputId": "ad8c5b55-09fa-4971-d9c1-196c2730950d"
      },
      "source": [
        "pd.DataFrame(history.history)"
      ],
      "execution_count": null,
      "outputs": [
        {
          "output_type": "execute_result",
          "data": {
            "text/html": [
              "<div>\n",
              "<style scoped>\n",
              "    .dataframe tbody tr th:only-of-type {\n",
              "        vertical-align: middle;\n",
              "    }\n",
              "\n",
              "    .dataframe tbody tr th {\n",
              "        vertical-align: top;\n",
              "    }\n",
              "\n",
              "    .dataframe thead th {\n",
              "        text-align: right;\n",
              "    }\n",
              "</style>\n",
              "<table border=\"1\" class=\"dataframe\">\n",
              "  <thead>\n",
              "    <tr style=\"text-align: right;\">\n",
              "      <th></th>\n",
              "      <th>loss</th>\n",
              "      <th>accuracy</th>\n",
              "      <th>val_loss</th>\n",
              "      <th>val_accuracy</th>\n",
              "    </tr>\n",
              "  </thead>\n",
              "  <tbody>\n",
              "    <tr>\n",
              "      <th>0</th>\n",
              "      <td>0.610783</td>\n",
              "      <td>0.840400</td>\n",
              "      <td>0.304987</td>\n",
              "      <td>0.9118</td>\n",
              "    </tr>\n",
              "    <tr>\n",
              "      <th>1</th>\n",
              "      <td>0.285988</td>\n",
              "      <td>0.918727</td>\n",
              "      <td>0.244523</td>\n",
              "      <td>0.9314</td>\n",
              "    </tr>\n",
              "    <tr>\n",
              "      <th>2</th>\n",
              "      <td>0.234710</td>\n",
              "      <td>0.932945</td>\n",
              "      <td>0.202774</td>\n",
              "      <td>0.9444</td>\n",
              "    </tr>\n",
              "    <tr>\n",
              "      <th>3</th>\n",
              "      <td>0.200725</td>\n",
              "      <td>0.943436</td>\n",
              "      <td>0.180845</td>\n",
              "      <td>0.9494</td>\n",
              "    </tr>\n",
              "    <tr>\n",
              "      <th>4</th>\n",
              "      <td>0.175329</td>\n",
              "      <td>0.950091</td>\n",
              "      <td>0.161418</td>\n",
              "      <td>0.9562</td>\n",
              "    </tr>\n",
              "    <tr>\n",
              "      <th>5</th>\n",
              "      <td>0.155363</td>\n",
              "      <td>0.955982</td>\n",
              "      <td>0.147345</td>\n",
              "      <td>0.9606</td>\n",
              "    </tr>\n",
              "    <tr>\n",
              "      <th>6</th>\n",
              "      <td>0.139052</td>\n",
              "      <td>0.960618</td>\n",
              "      <td>0.135747</td>\n",
              "      <td>0.9632</td>\n",
              "    </tr>\n",
              "    <tr>\n",
              "      <th>7</th>\n",
              "      <td>0.125705</td>\n",
              "      <td>0.964527</td>\n",
              "      <td>0.126051</td>\n",
              "      <td>0.9656</td>\n",
              "    </tr>\n",
              "    <tr>\n",
              "      <th>8</th>\n",
              "      <td>0.114648</td>\n",
              "      <td>0.967818</td>\n",
              "      <td>0.116540</td>\n",
              "      <td>0.9680</td>\n",
              "    </tr>\n",
              "    <tr>\n",
              "      <th>9</th>\n",
              "      <td>0.105304</td>\n",
              "      <td>0.970418</td>\n",
              "      <td>0.110109</td>\n",
              "      <td>0.9688</td>\n",
              "    </tr>\n",
              "    <tr>\n",
              "      <th>10</th>\n",
              "      <td>0.096849</td>\n",
              "      <td>0.972945</td>\n",
              "      <td>0.104200</td>\n",
              "      <td>0.9708</td>\n",
              "    </tr>\n",
              "    <tr>\n",
              "      <th>11</th>\n",
              "      <td>0.089239</td>\n",
              "      <td>0.975055</td>\n",
              "      <td>0.098834</td>\n",
              "      <td>0.9724</td>\n",
              "    </tr>\n",
              "    <tr>\n",
              "      <th>12</th>\n",
              "      <td>0.082732</td>\n",
              "      <td>0.976909</td>\n",
              "      <td>0.096679</td>\n",
              "      <td>0.9722</td>\n",
              "    </tr>\n",
              "    <tr>\n",
              "      <th>13</th>\n",
              "      <td>0.076676</td>\n",
              "      <td>0.978764</td>\n",
              "      <td>0.094740</td>\n",
              "      <td>0.9724</td>\n",
              "    </tr>\n",
              "    <tr>\n",
              "      <th>14</th>\n",
              "      <td>0.071677</td>\n",
              "      <td>0.979964</td>\n",
              "      <td>0.087841</td>\n",
              "      <td>0.9750</td>\n",
              "    </tr>\n",
              "    <tr>\n",
              "      <th>15</th>\n",
              "      <td>0.066792</td>\n",
              "      <td>0.981600</td>\n",
              "      <td>0.085419</td>\n",
              "      <td>0.9750</td>\n",
              "    </tr>\n",
              "    <tr>\n",
              "      <th>16</th>\n",
              "      <td>0.062317</td>\n",
              "      <td>0.983236</td>\n",
              "      <td>0.085411</td>\n",
              "      <td>0.9762</td>\n",
              "    </tr>\n",
              "    <tr>\n",
              "      <th>17</th>\n",
              "      <td>0.058702</td>\n",
              "      <td>0.983764</td>\n",
              "      <td>0.083373</td>\n",
              "      <td>0.9754</td>\n",
              "    </tr>\n",
              "    <tr>\n",
              "      <th>18</th>\n",
              "      <td>0.054696</td>\n",
              "      <td>0.985291</td>\n",
              "      <td>0.078985</td>\n",
              "      <td>0.9764</td>\n",
              "    </tr>\n",
              "    <tr>\n",
              "      <th>19</th>\n",
              "      <td>0.051254</td>\n",
              "      <td>0.986236</td>\n",
              "      <td>0.078202</td>\n",
              "      <td>0.9760</td>\n",
              "    </tr>\n",
              "    <tr>\n",
              "      <th>20</th>\n",
              "      <td>0.048405</td>\n",
              "      <td>0.987182</td>\n",
              "      <td>0.076363</td>\n",
              "      <td>0.9776</td>\n",
              "    </tr>\n",
              "    <tr>\n",
              "      <th>21</th>\n",
              "      <td>0.045569</td>\n",
              "      <td>0.987909</td>\n",
              "      <td>0.075493</td>\n",
              "      <td>0.9760</td>\n",
              "    </tr>\n",
              "    <tr>\n",
              "      <th>22</th>\n",
              "      <td>0.042715</td>\n",
              "      <td>0.988855</td>\n",
              "      <td>0.073792</td>\n",
              "      <td>0.9766</td>\n",
              "    </tr>\n",
              "    <tr>\n",
              "      <th>23</th>\n",
              "      <td>0.040419</td>\n",
              "      <td>0.989673</td>\n",
              "      <td>0.072045</td>\n",
              "      <td>0.9778</td>\n",
              "    </tr>\n",
              "    <tr>\n",
              "      <th>24</th>\n",
              "      <td>0.038164</td>\n",
              "      <td>0.990745</td>\n",
              "      <td>0.071726</td>\n",
              "      <td>0.9768</td>\n",
              "    </tr>\n",
              "    <tr>\n",
              "      <th>25</th>\n",
              "      <td>0.035741</td>\n",
              "      <td>0.990891</td>\n",
              "      <td>0.070450</td>\n",
              "      <td>0.9776</td>\n",
              "    </tr>\n",
              "    <tr>\n",
              "      <th>26</th>\n",
              "      <td>0.034124</td>\n",
              "      <td>0.991782</td>\n",
              "      <td>0.073145</td>\n",
              "      <td>0.9774</td>\n",
              "    </tr>\n",
              "    <tr>\n",
              "      <th>27</th>\n",
              "      <td>0.032035</td>\n",
              "      <td>0.992091</td>\n",
              "      <td>0.071539</td>\n",
              "      <td>0.9782</td>\n",
              "    </tr>\n",
              "    <tr>\n",
              "      <th>28</th>\n",
              "      <td>0.030310</td>\n",
              "      <td>0.992745</td>\n",
              "      <td>0.070034</td>\n",
              "      <td>0.9790</td>\n",
              "    </tr>\n",
              "    <tr>\n",
              "      <th>29</th>\n",
              "      <td>0.028805</td>\n",
              "      <td>0.993127</td>\n",
              "      <td>0.066688</td>\n",
              "      <td>0.9784</td>\n",
              "    </tr>\n",
              "  </tbody>\n",
              "</table>\n",
              "</div>"
            ],
            "text/plain": [
              "        loss  accuracy  val_loss  val_accuracy\n",
              "0   0.610783  0.840400  0.304987        0.9118\n",
              "1   0.285988  0.918727  0.244523        0.9314\n",
              "2   0.234710  0.932945  0.202774        0.9444\n",
              "3   0.200725  0.943436  0.180845        0.9494\n",
              "4   0.175329  0.950091  0.161418        0.9562\n",
              "5   0.155363  0.955982  0.147345        0.9606\n",
              "6   0.139052  0.960618  0.135747        0.9632\n",
              "7   0.125705  0.964527  0.126051        0.9656\n",
              "8   0.114648  0.967818  0.116540        0.9680\n",
              "9   0.105304  0.970418  0.110109        0.9688\n",
              "10  0.096849  0.972945  0.104200        0.9708\n",
              "11  0.089239  0.975055  0.098834        0.9724\n",
              "12  0.082732  0.976909  0.096679        0.9722\n",
              "13  0.076676  0.978764  0.094740        0.9724\n",
              "14  0.071677  0.979964  0.087841        0.9750\n",
              "15  0.066792  0.981600  0.085419        0.9750\n",
              "16  0.062317  0.983236  0.085411        0.9762\n",
              "17  0.058702  0.983764  0.083373        0.9754\n",
              "18  0.054696  0.985291  0.078985        0.9764\n",
              "19  0.051254  0.986236  0.078202        0.9760\n",
              "20  0.048405  0.987182  0.076363        0.9776\n",
              "21  0.045569  0.987909  0.075493        0.9760\n",
              "22  0.042715  0.988855  0.073792        0.9766\n",
              "23  0.040419  0.989673  0.072045        0.9778\n",
              "24  0.038164  0.990745  0.071726        0.9768\n",
              "25  0.035741  0.990891  0.070450        0.9776\n",
              "26  0.034124  0.991782  0.073145        0.9774\n",
              "27  0.032035  0.992091  0.071539        0.9782\n",
              "28  0.030310  0.992745  0.070034        0.9790\n",
              "29  0.028805  0.993127  0.066688        0.9784"
            ]
          },
          "metadata": {
            "tags": []
          },
          "execution_count": 31
        }
      ]
    },
    {
      "cell_type": "code",
      "metadata": {
        "colab": {
          "base_uri": "https://localhost:8080/",
          "height": 283
        },
        "id": "LxQHr9ra236P",
        "outputId": "da869e11-86c7-4230-e82b-e1a4103098fc"
      },
      "source": [
        "pd.DataFrame(history.history).plot()"
      ],
      "execution_count": null,
      "outputs": [
        {
          "output_type": "execute_result",
          "data": {
            "text/plain": [
              "<matplotlib.axes._subplots.AxesSubplot at 0x7fb30c471810>"
            ]
          },
          "metadata": {
            "tags": []
          },
          "execution_count": 32
        },
        {
          "output_type": "display_data",
          "data": {
            "image/png": "[encoded data removed]",
            "text/plain": [
              "<Figure size 432x288 with 1 Axes>"
            ]
          },
          "metadata": {
            "tags": [],
            "needs_background": "light"
          }
        }
      ]
    },
    {
      "cell_type": "code",
      "metadata": {
        "colab": {
          "base_uri": "https://localhost:8080/"
        },
        "id": "qI9hBbze26iJ",
        "outputId": "8b047139-7f60-47c0-f4b6-e5462ce67c79"
      },
      "source": [
        "model_clf.evaluate(X_test, y_test)"
      ],
      "execution_count": null,
      "outputs": [
        {
          "output_type": "stream",
          "text": [
            "313/313 [==============================] - 0s 1ms/step - loss: 0.0713 - accuracy: 0.9777\n"
          ],
          "name": "stdout"
        },
        {
          "output_type": "execute_result",
          "data": {
            "text/plain": [
              "[0.07131989300251007, 0.9776999950408936]"
            ]
          },
          "metadata": {
            "tags": []
          },
          "execution_count": 33
        }
      ]
    },
    {
      "cell_type": "code",
      "metadata": {
        "id": "AeGDSES629TB"
      },
      "source": [
        "x_new = X_test[:3]\n",
        "# x_new"
      ],
      "execution_count": null,
      "outputs": []
    },
    {
      "cell_type": "code",
      "metadata": {
        "colab": {
          "base_uri": "https://localhost:8080/"
        },
        "id": "RpIuW5e43AFv",
        "outputId": "c85b9668-3256-43d6-d63a-3b4868952551"
      },
      "source": [
        "actual = y_test[:3]\n",
        "actual"
      ],
      "execution_count": null,
      "outputs": [
        {
          "output_type": "execute_result",
          "data": {
            "text/plain": [
              "array([7, 2, 1], dtype=uint8)"
            ]
          },
          "metadata": {
            "tags": []
          },
          "execution_count": 35
        }
      ]
    },
    {
      "cell_type": "code",
      "metadata": {
        "colab": {
          "base_uri": "https://localhost:8080/"
        },
        "id": "BzDXCMrZ3FeN",
        "outputId": "e0cef512-1c06-4dd0-b3b0-3d2a8a9996bc"
      },
      "source": [
        "y_prob = model_clf.predict(x_new)\n",
        "y_prob.round(3)"
      ],
      "execution_count": null,
      "outputs": [
        {
          "output_type": "execute_result",
          "data": {
            "text/plain": [
              "array([[0.   , 0.   , 0.   , 0.001, 0.   , 0.   , 0.   , 0.999, 0.   ,\n",
              "        0.   ],\n",
              "       [0.   , 0.   , 1.   , 0.   , 0.   , 0.   , 0.   , 0.   , 0.   ,\n",
              "        0.   ],\n",
              "       [0.   , 0.997, 0.   , 0.   , 0.   , 0.   , 0.   , 0.001, 0.001,\n",
              "        0.   ]], dtype=float32)"
            ]
          },
          "metadata": {
            "tags": []
          },
          "execution_count": 36
        }
      ]
    },
    {
      "cell_type": "code",
      "metadata": {
        "colab": {
          "base_uri": "https://localhost:8080/"
        },
        "id": "Ls3-bY-c3ICH",
        "outputId": "6cefcea6-a294-4392-b8b9-9ef243c3bada"
      },
      "source": [
        "y_prob"
      ],
      "execution_count": null,
      "outputs": [
        {
          "output_type": "execute_result",
          "data": {
            "text/plain": [
              "array([[1.26814825e-06, 4.46078133e-07, 1.07542524e-04, 1.11021555e-03,\n",
              "        8.08912104e-10, 6.93279389e-07, 2.99566656e-11, 9.98763442e-01,\n",
              "        2.68553026e-06, 1.37673715e-05],\n",
              "       [1.36328981e-05, 2.90468706e-05, 9.99673128e-01, 1.67828388e-04,\n",
              "        4.09359916e-12, 2.81948644e-07, 2.40973009e-06, 2.80236584e-10,\n",
              "        1.13638853e-04, 7.04005257e-11],\n",
              "       [8.51472032e-06, 9.97284412e-01, 3.58027231e-04, 7.38601229e-05,\n",
              "        4.06352337e-04, 9.29948001e-05, 1.49637301e-04, 9.27356305e-04,\n",
              "        6.85796491e-04, 1.29904947e-05]], dtype=float32)"
            ]
          },
          "metadata": {
            "tags": []
          },
          "execution_count": 37
        }
      ]
    },
    {
      "cell_type": "code",
      "metadata": {
        "id": "R9Z_1Jjb3LJK"
      },
      "source": [
        "y_pred = np.argmax(y_prob, axis = -1)"
      ],
      "execution_count": null,
      "outputs": []
    },
    {
      "cell_type": "code",
      "metadata": {
        "colab": {
          "base_uri": "https://localhost:8080/"
        },
        "id": "slkhjxIM3OdH",
        "outputId": "98627e34-3d71-4c22-b708-170258b0a4bd"
      },
      "source": [
        "y_pred"
      ],
      "execution_count": null,
      "outputs": [
        {
          "output_type": "execute_result",
          "data": {
            "text/plain": [
              "array([7, 2, 1])"
            ]
          },
          "metadata": {
            "tags": []
          },
          "execution_count": 39
        }
      ]
    },
    {
      "cell_type": "code",
      "metadata": {
        "colab": {
          "base_uri": "https://localhost:8080/"
        },
        "id": "QaKF_MPo3QvD",
        "outputId": "3c31b56d-1435-47b6-9e58-e41d517985bc"
      },
      "source": [
        "actual"
      ],
      "execution_count": null,
      "outputs": [
        {
          "output_type": "execute_result",
          "data": {
            "text/plain": [
              "array([7, 2, 1], dtype=uint8)"
            ]
          },
          "metadata": {
            "tags": []
          },
          "execution_count": 40
        }
      ]
    },
    {
      "cell_type": "code",
      "metadata": {
        "colab": {
          "base_uri": "https://localhost:8080/",
          "height": 813
        },
        "id": "ER_8dhBT3R20",
        "outputId": "a36d4d20-41e1-47c1-9584-0580643e50a3"
      },
      "source": [
        "# plot\n",
        "for data, pred, actual_data in zip(x_new, y_pred, actual):\n",
        "  plt.imshow(data, cmap=\"binary\")\n",
        "  plt.title(f\"Predicted {pred} and Actual {actual_data}\")\n",
        "  plt.axis(\"off\")\n",
        "  plt.show()\n",
        "  print(\"######################\")"
      ],
      "execution_count": null,
      "outputs": [
        {
          "output_type": "display_data",
          "data": {
            "image/png": "[encoded data removed]",
            "text/plain": [
              "<Figure size 432x288 with 1 Axes>"
            ]
          },
          "metadata": {
            "tags": [],
            "needs_background": "light"
          }
        },
        {
          "output_type": "stream",
          "text": [
            "######################\n"
          ],
          "name": "stdout"
        },
        {
          "output_type": "display_data",
          "data": {
            "image/png": "[encoded data removed]",
            "text/plain": [
              "<Figure size 432x288 with 1 Axes>"
            ]
          },
          "metadata": {
            "tags": [],
            "needs_background": "light"
          }
        },
        {
          "output_type": "stream",
          "text": [
            "######################\n"
          ],
          "name": "stdout"
        },
        {
          "output_type": "display_data",
          "data": {
            "image/png": "[encoded data removed]",
            "text/plain": [
              "<Figure size 432x288 with 1 Axes>"
            ]
          },
          "metadata": {
            "tags": [],
            "needs_background": "light"
          }
        },
        {
          "output_type": "stream",
          "text": [
            "######################\n"
          ],
          "name": "stdout"
        }
      ]
    },
    {
      "cell_type": "code",
      "metadata": {
        "id": "U-Jy4_LU3UHx"
      },
      "source": [],
      "execution_count": null,
      "outputs": []
    }
  ]
}